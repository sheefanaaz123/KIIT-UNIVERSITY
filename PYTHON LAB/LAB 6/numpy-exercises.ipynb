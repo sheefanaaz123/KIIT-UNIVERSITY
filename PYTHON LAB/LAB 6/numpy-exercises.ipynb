{
 "cells": [
  {
   "cell_type": "markdown",
   "metadata": {},
   "source": [
    "# NumPy Practice\n",
    "\n",
    "This notebook offers a set of exercises for different tasks with NumPy.\n",
    "\n",
    "It should be noted there may be more than one different way to answer a question or complete an exercise.\n",
    "\n",
    "Exercises are based off (and directly taken from) the quick introduction to NumPy notebook.\n",
    "\n",
    "Different tasks will be detailed by comments or text.\n",
    "\n",
    "For further reference and resources, it's advised to check out the [NumPy documentation](https://numpy.org/devdocs/user/index.html).\n",
    "\n",
    "And if you get stuck, try searching for a question in the following format: \"how to do XYZ with numpy\", where XYZ is the function you want to leverage from NumPy."
   ]
  },
  {
   "cell_type": "code",
   "execution_count": 1,
   "metadata": {},
   "outputs": [],
   "source": [
    "# Import NumPy as its abbreviation 'np'\n",
    "import numpy as np\n"
   ]
  },
  {
   "cell_type": "code",
   "execution_count": 2,
   "metadata": {},
   "outputs": [
    {
     "name": "stdout",
     "output_type": "stream",
     "text": [
      "1-dimensional array:\n",
      "[1 2 3 4 5]\n",
      "\n",
      "2-dimensional array:\n",
      "[[1 2 3]\n",
      " [4 5 6]\n",
      " [7 8 9]]\n",
      "\n",
      "3-dimensional array:\n",
      "[[[ 1  2  3]\n",
      "  [ 4  5  6]]\n",
      "\n",
      " [[ 7  8  9]\n",
      "  [10 11 12]]]\n"
     ]
    }
   ],
   "source": [
    "import numpy as np\n",
    "\n",
    "# Create a 1-dimensional NumPy array\n",
    "array_1d = np.array([1, 2, 3, 4, 5])\n",
    "\n",
    "# Create a 2-dimensional NumPy array\n",
    "array_2d = np.array([[1, 2, 3],\n",
    "                     [4, 5, 6],\n",
    "                     [7, 8, 9]])\n",
    "\n",
    "# Create a 3-dimensional NumPy array\n",
    "array_3d = np.array([[[1, 2, 3],\n",
    "                      [4, 5, 6]],\n",
    "                     [[7, 8, 9],\n",
    "                      [10, 11, 12]]])\n",
    "\n",
    "print(\"1-dimensional array:\")\n",
    "print(array_1d)\n",
    "print(\"\\n2-dimensional array:\")\n",
    "print(array_2d)\n",
    "print(\"\\n3-dimensional array:\")\n",
    "print(array_3d)\n"
   ]
  },
  {
   "cell_type": "markdown",
   "metadata": {},
   "source": [
    "Now we've you've created 3 different arrays, let's find details about them.\n",
    "\n",
    "Find the shape, number of dimensions, data type, size and type of each array."
   ]
  },
  {
   "cell_type": "code",
   "execution_count": 3,
   "metadata": {},
   "outputs": [
    {
     "name": "stdout",
     "output_type": "stream",
     "text": [
      "Attributes of 1-dimensional array:\n",
      "Shape: (5,)\n",
      "Number of dimensions: 1\n",
      "Data type: int32\n",
      "Size: 5\n",
      "Type: <class 'numpy.ndarray'>\n"
     ]
    }
   ],
   "source": [
    "# Attributes of 1-dimensional array (shape, \n",
    "# number of dimensions, data type, size and type)\n",
    "\n",
    "print(\"Attributes of 1-dimensional array:\")\n",
    "print(\"Shape:\", array_1d.shape)\n",
    "print(\"Number of dimensions:\", array_1d.ndim)\n",
    "print(\"Data type:\", array_1d.dtype)\n",
    "print(\"Size:\", array_1d.size)\n",
    "print(\"Type:\", type(array_1d))\n"
   ]
  },
  {
   "cell_type": "code",
   "execution_count": 4,
   "metadata": {},
   "outputs": [
    {
     "name": "stdout",
     "output_type": "stream",
     "text": [
      "\n",
      "Attributes of 2-dimensional array:\n",
      "Shape: (3, 3)\n",
      "Number of dimensions: 2\n",
      "Data type: int32\n",
      "Size: 9\n",
      "Type: <class 'numpy.ndarray'>\n"
     ]
    }
   ],
   "source": [
    "# Attributes of 2-dimensional array\n",
    "print(\"\\nAttributes of 2-dimensional array:\")\n",
    "print(\"Shape:\", array_2d.shape)\n",
    "print(\"Number of dimensions:\", array_2d.ndim)\n",
    "print(\"Data type:\", array_2d.dtype)\n",
    "print(\"Size:\", array_2d.size)\n",
    "print(\"Type:\", type(array_2d))\n"
   ]
  },
  {
   "cell_type": "code",
   "execution_count": 5,
   "metadata": {},
   "outputs": [
    {
     "name": "stdout",
     "output_type": "stream",
     "text": [
      "\n",
      "Attributes of 3-dimensional array:\n",
      "Shape: (2, 2, 3)\n",
      "Number of dimensions: 3\n",
      "Data type: int32\n",
      "Size: 12\n",
      "Type: <class 'numpy.ndarray'>\n"
     ]
    }
   ],
   "source": [
    "\n",
    "# Attributes of 3-dimensional array\n",
    "print(\"\\nAttributes of 3-dimensional array:\")\n",
    "print(\"Shape:\", array_3d.shape)\n",
    "print(\"Number of dimensions:\", array_3d.ndim)\n",
    "print(\"Data type:\", array_3d.dtype)\n",
    "print(\"Size:\", array_3d.size)\n",
    "print(\"Type:\", type(array_3d))"
   ]
  },
  {
   "cell_type": "code",
   "execution_count": 6,
   "metadata": {},
   "outputs": [
    {
     "name": "stdout",
     "output_type": "stream",
     "text": [
      "   0  1  2\n",
      "0  1  2  3\n",
      "1  4  5  6\n",
      "2  7  8  9\n"
     ]
    }
   ],
   "source": [
    "import pandas as pd\n",
    "\n",
    "\n",
    "# Create a DataFrame from the array\n",
    "df = pd.DataFrame(array_2d)\n",
    "\n",
    "# Display the DataFrame\n",
    "print(df)\n"
   ]
  },
  {
   "cell_type": "code",
   "execution_count": 7,
   "metadata": {},
   "outputs": [
    {
     "name": "stdout",
     "output_type": "stream",
     "text": [
      "[[1. 1.]\n",
      " [1. 1.]\n",
      " [1. 1.]\n",
      " [1. 1.]\n",
      " [1. 1.]\n",
      " [1. 1.]\n",
      " [1. 1.]\n",
      " [1. 1.]\n",
      " [1. 1.]\n",
      " [1. 1.]]\n"
     ]
    }
   ],
   "source": [
    "# Create an array of shape (10, 2) with only ones\n",
    "array_ones = np.ones((10, 2))\n",
    "\n",
    "print(array_ones)\n"
   ]
  },
  {
   "cell_type": "code",
   "execution_count": 8,
   "metadata": {},
   "outputs": [
    {
     "name": "stdout",
     "output_type": "stream",
     "text": [
      "[[[0. 0. 0.]\n",
      "  [0. 0. 0.]]\n",
      "\n",
      " [[0. 0. 0.]\n",
      "  [0. 0. 0.]]\n",
      "\n",
      " [[0. 0. 0.]\n",
      "  [0. 0. 0.]]\n",
      "\n",
      " [[0. 0. 0.]\n",
      "  [0. 0. 0.]]\n",
      "\n",
      " [[0. 0. 0.]\n",
      "  [0. 0. 0.]]\n",
      "\n",
      " [[0. 0. 0.]\n",
      "  [0. 0. 0.]]\n",
      "\n",
      " [[0. 0. 0.]\n",
      "  [0. 0. 0.]]]\n"
     ]
    }
   ],
   "source": [
    "array_zeros = np.zeros((7, 2, 3))\n",
    "\n",
    "print(array_zeros)\n"
   ]
  },
  {
   "cell_type": "code",
   "execution_count": 9,
   "metadata": {},
   "outputs": [
    {
     "name": "stdout",
     "output_type": "stream",
     "text": [
      "[ 0  3  6  9 12 15 18 21 24 27 30 33 36 39 42 45 48 51 54 57 60 63 66 69\n",
      " 72 75 78 81 84 87 90 93 96 99]\n"
     ]
    }
   ],
   "source": [
    "# Create an array within a range of 0 and 100 with step 3\n",
    "array_range = np.arange(0, 100, 3)\n",
    "\n",
    "print(array_range)\n"
   ]
  },
  {
   "cell_type": "code",
   "execution_count": 10,
   "metadata": {},
   "outputs": [
    {
     "name": "stdout",
     "output_type": "stream",
     "text": [
      "[[9.149666   0.66037334]\n",
      " [4.45777664 7.09833414]\n",
      " [4.93270599 6.80469125]\n",
      " [8.03212312 6.61929268]\n",
      " [8.49560203 3.67564501]\n",
      " [4.32454576 1.68459853]\n",
      " [5.97171993 2.36800666]]\n"
     ]
    }
   ],
   "source": [
    "random_array = np.random.rand(7, 2) * 10\n",
    "\n",
    "print(random_array)\n"
   ]
  },
  {
   "cell_type": "code",
   "execution_count": 11,
   "metadata": {},
   "outputs": [
    {
     "name": "stdout",
     "output_type": "stream",
     "text": [
      "[[0.6459714  0.67485306 0.64678697 0.27709095 0.05891206]\n",
      " [0.11481706 0.41550636 0.21581557 0.12433898 0.23482137]\n",
      " [0.19014198 0.17621727 0.84464689 0.07850036 0.53462358]]\n"
     ]
    }
   ],
   "source": [
    "import numpy as np\n",
    "\n",
    "# Create a random array of floats between 0 and 1 of shape (3, 5)\n",
    "random_array = np.random.rand(3, 5)\n",
    "\n",
    "print(random_array)\n"
   ]
  },
  {
   "cell_type": "code",
   "execution_count": 12,
   "metadata": {},
   "outputs": [
    {
     "name": "stdout",
     "output_type": "stream",
     "text": [
      "[[3.74540119 9.50714306 7.31993942 5.98658484 1.5601864  1.5599452 ]\n",
      " [0.58083612 8.66176146 6.01115012 7.08072578 0.20584494 9.69909852]\n",
      " [8.32442641 2.12339111 1.81824967 1.8340451  3.04242243 5.24756432]\n",
      " [4.31945019 2.9122914  6.11852895 1.39493861 2.92144649 3.66361843]]\n"
     ]
    }
   ],
   "source": [
    "# Set the random seed to 42\n",
    "np.random.seed(42)\n",
    "\n",
    "# Create a random array of numbers between 0 and 10 of size (4, 6)\n",
    "random_array = np.random.rand(4, 6) * 10\n",
    "\n",
    "print(random_array)\n"
   ]
  },
  {
   "cell_type": "markdown",
   "metadata": {},
   "source": [
    "Run the cell above again, what happens?\n",
    "\n",
    "Are the numbers in the array different or the same? Why do think this is?"
   ]
  },
  {
   "cell_type": "code",
   "execution_count": 13,
   "metadata": {},
   "outputs": [
    {
     "name": "stdout",
     "output_type": "stream",
     "text": [
      "Array of random numbers between 1 and 10:\n",
      "[[ 3  7  4  9  3  5  3]\n",
      " [ 7  5  9  7  2  4  9]\n",
      " [ 2 10  9 10  5  2  4]]\n",
      "\n",
      "Unique numbers in the array:\n",
      "[ 2  3  4  5  7  9 10]\n"
     ]
    }
   ],
   "source": [
    "# Create an array of random numbers between 1 and 10 of size (3, 7)\n",
    "random_array = np.random.randint(1, 11, size=(3, 7))\n",
    "\n",
    "print(\"Array of random numbers between 1 and 10:\")\n",
    "print(random_array)\n",
    "\n",
    "# Find the unique numbers in the array\n",
    "unique_numbers = np.unique(random_array)\n",
    "\n",
    "print(\"\\nUnique numbers in the array:\")\n",
    "print(unique_numbers)\n"
   ]
  },
  {
   "cell_type": "code",
   "execution_count": 14,
   "metadata": {},
   "outputs": [
    {
     "name": "stdout",
     "output_type": "stream",
     "text": [
      "Value at the 0th index of the latest array: 3\n"
     ]
    }
   ],
   "source": [
    "# Assuming you have the latest array stored in the variable random_array\n",
    "\n",
    "# Find the value at the 0th index of the latest array\n",
    "value_at_index_0 = random_array[0, 0]\n",
    "\n",
    "print(\"Value at the 0th index of the latest array:\", value_at_index_0)\n"
   ]
  },
  {
   "cell_type": "code",
   "execution_count": 15,
   "metadata": {},
   "outputs": [
    {
     "name": "stdout",
     "output_type": "stream",
     "text": [
      "First 2 rows of the latest array:\n",
      "[[3 7 4 9 3 5 3]\n",
      " [7 5 9 7 2 4 9]]\n"
     ]
    }
   ],
   "source": [
    "# Assuming you have the latest array stored in the variable random_array\n",
    "\n",
    "# Get the first 2 rows of the latest array\n",
    "first_two_rows = random_array[:2]\n",
    "\n",
    "print(\"First 2 rows of the latest array:\")\n",
    "print(first_two_rows)\n"
   ]
  },
  {
   "cell_type": "code",
   "execution_count": 16,
   "metadata": {},
   "outputs": [
    {
     "name": "stdout",
     "output_type": "stream",
     "text": [
      "First 2 values of the first 2 rows of the latest array:\n",
      "[[3 7]\n",
      " [7 5]]\n"
     ]
    }
   ],
   "source": [
    "# Get the first 2 values of the first 2 rows of the latest array\n",
    "first_two_values = random_array[:2, :2]\n",
    "\n",
    "print(\"First 2 values of the first 2 rows of the latest array:\")\n",
    "print(first_two_values)\n"
   ]
  },
  {
   "cell_type": "code",
   "execution_count": 17,
   "metadata": {},
   "outputs": [
    {
     "name": "stdout",
     "output_type": "stream",
     "text": [
      "Random array:\n",
      "[[6 7 2 0 3]\n",
      " [1 7 3 1 5]\n",
      " [5 9 3 5 1]]\n",
      "\n",
      "Array of ones:\n",
      "[[1. 1. 1. 1. 1.]\n",
      " [1. 1. 1. 1. 1.]\n",
      " [1. 1. 1. 1. 1.]]\n"
     ]
    }
   ],
   "source": [
    "# Create a random array of numbers between 0 and 10 of size (3, 5)\n",
    "random_array = np.random.randint(0, 11, size=(3, 5))\n",
    "\n",
    "# Create an array of ones of size (3, 5)\n",
    "ones_array = np.ones((3, 5))\n",
    "\n",
    "print(\"Random array:\")\n",
    "print(random_array)\n",
    "print(\"\\nArray of ones:\")\n",
    "print(ones_array)\n",
    "\n"
   ]
  },
  {
   "cell_type": "code",
   "execution_count": 19,
   "metadata": {},
   "outputs": [
    {
     "data": {
      "text/plain": [
       "array([[ 7.,  8.,  3.,  1.,  4.],\n",
       "       [ 2.,  8.,  4.,  2.,  6.],\n",
       "       [ 6., 10.,  4.,  6.,  2.]])"
      ]
     },
     "execution_count": 19,
     "metadata": {},
     "output_type": "execute_result"
    }
   ],
   "source": [
    "# Add the two arrays together using the + operator\n",
    "result = random_array + ones_array\n",
    "result"
   ]
  },
  {
   "cell_type": "code",
   "execution_count": 21,
   "metadata": {},
   "outputs": [
    {
     "name": "stdout",
     "output_type": "stream",
     "text": [
      "Array of ones with shape (5, 3):\n",
      "[[1. 1. 1.]\n",
      " [1. 1. 1.]\n",
      " [1. 1. 1.]\n",
      " [1. 1. 1.]\n",
      " [1. 1. 1.]]\n"
     ]
    }
   ],
   "source": [
    "\n",
    "# Create an array of ones of shape (5, 3)\n",
    "ones_array_5x3 = np.ones((5, 3))\n",
    "\n",
    "print(\"Array of ones with shape (5, 3):\")\n",
    "print(ones_array_5x3)\n"
   ]
  },
  {
   "cell_type": "code",
   "execution_count": 22,
   "metadata": {},
   "outputs": [
    {
     "ename": "ValueError",
     "evalue": "operands could not be broadcast together with shapes (3,5) (3,3) ",
     "output_type": "error",
     "traceback": [
      "\u001b[1;31m---------------------------------------------------------------------------\u001b[0m",
      "\u001b[1;31mValueError\u001b[0m                                Traceback (most recent call last)",
      "Cell \u001b[1;32mIn[22], line 8\u001b[0m\n\u001b[0;32m      5\u001b[0m ones_array_reshaped \u001b[38;5;241m=\u001b[39m ones_array_5x3[:\u001b[38;5;241m3\u001b[39m, :\u001b[38;5;241m5\u001b[39m]\n\u001b[0;32m      7\u001b[0m \u001b[38;5;66;03m# Add the two arrays together\u001b[39;00m\n\u001b[1;32m----> 8\u001b[0m result \u001b[38;5;241m=\u001b[39m \u001b[43mrandom_array\u001b[49m\u001b[43m \u001b[49m\u001b[38;5;241;43m+\u001b[39;49m\u001b[43m \u001b[49m\u001b[43mones_array_reshaped\u001b[49m\n\u001b[0;32m     10\u001b[0m \u001b[38;5;28mprint\u001b[39m(\u001b[38;5;124m\"\u001b[39m\u001b[38;5;124mResult of adding the two arrays together:\u001b[39m\u001b[38;5;124m\"\u001b[39m)\n\u001b[0;32m     11\u001b[0m \u001b[38;5;28mprint\u001b[39m(result)\n",
      "\u001b[1;31mValueError\u001b[0m: operands could not be broadcast together with shapes (3,5) (3,3) "
     ]
    }
   ],
   "source": [
    "# Create the array of ones with shape (5, 3)\n",
    "ones_array_5x3 = np.ones((5, 3))\n",
    "\n",
    "# Reshape the array of ones to match the shape of the other array\n",
    "ones_array_reshaped = ones_array_5x3[:3, :5]\n",
    "\n",
    "# Add the two arrays together\n",
    "result = random_array + ones_array_reshaped\n",
    "\n",
    "print(\"Result of adding the two arrays together:\")\n",
    "print(result)\n"
   ]
  },
  {
   "cell_type": "markdown",
   "metadata": {},
   "source": [
    "When you try the last cell, it produces an error. Why do think this is?\n",
    "\n",
    "How would you fix it?"
   ]
  },
  {
   "cell_type": "code",
   "execution_count": 23,
   "metadata": {},
   "outputs": [
    {
     "name": "stdout",
     "output_type": "stream",
     "text": [
      "Array of ones with shape (3, 5):\n",
      "[[1. 1. 1. 1. 1.]\n",
      " [1. 1. 1. 1. 1.]\n",
      " [1. 1. 1. 1. 1.]]\n"
     ]
    }
   ],
   "source": [
    "# Create an array of ones of shape (3, 5)\n",
    "ones_array_3x5 = np.ones((3, 5))\n",
    "\n",
    "print(\"Array of ones with shape (3, 5):\")\n",
    "print(ones_array_3x5)\n"
   ]
  },
  {
   "cell_type": "code",
   "execution_count": 24,
   "metadata": {},
   "outputs": [
    {
     "name": "stdout",
     "output_type": "stream",
     "text": [
      "Result of subtracting the new array of ones:\n",
      "[[6. 7. 2. 0. 3.]\n",
      " [1. 7. 3. 1. 5.]\n",
      " [5. 9. 3. 5. 1.]]\n"
     ]
    }
   ],
   "source": [
    "# Create the new array of ones with shape (3, 5)\n",
    "ones_array_3x5 = np.ones((3, 5))\n",
    "\n",
    "# Subtract the new array of ones from the other most recent array\n",
    "result_subtraction = result - ones_array_3x5\n",
    "\n",
    "print(\"Result of subtracting the new array of ones:\")\n",
    "print(result_subtraction)\n"
   ]
  },
  {
   "cell_type": "code",
   "execution_count": 25,
   "metadata": {},
   "outputs": [
    {
     "name": "stdout",
     "output_type": "stream",
     "text": [
      "Result of multiplying the ones array with the latest array:\n",
      "[[ 7.  8.  3.  1.  4.]\n",
      " [ 2.  8.  4.  2.  6.]\n",
      " [ 6. 10.  4.  6.  2.]]\n"
     ]
    }
   ],
   "source": [
    "# Create the new array of ones with shape (3, 5)\n",
    "ones_array_3x5 = np.ones((3, 5))\n",
    "\n",
    "# Multiply the ones array with the latest array\n",
    "result_multiplication = ones_array_3x5 * result\n",
    "\n",
    "print(\"Result of multiplying the ones array with the latest array:\")\n",
    "print(result_multiplication)\n"
   ]
  },
  {
   "cell_type": "code",
   "execution_count": 26,
   "metadata": {},
   "outputs": [
    {
     "name": "stdout",
     "output_type": "stream",
     "text": [
      "Result of raising the latest array to the power of 2:\n",
      "[[ 49.  64.   9.   1.  16.]\n",
      " [  4.  64.  16.   4.  36.]\n",
      " [ 36. 100.  16.  36.   4.]]\n"
     ]
    }
   ],
   "source": [
    "# Take the latest array to the power of 2 using the ** operator\n",
    "result_power = result ** 2\n",
    "\n",
    "print(\"Result of raising the latest array to the power of 2:\")\n",
    "print(result_power)\n"
   ]
  },
  {
   "cell_type": "code",
   "execution_count": 27,
   "metadata": {},
   "outputs": [
    {
     "name": "stdout",
     "output_type": "stream",
     "text": [
      "Result of raising the latest array to the power of 2 using np.square():\n",
      "[[ 49.  64.   9.   1.  16.]\n",
      " [  4.  64.  16.   4.  36.]\n",
      " [ 36. 100.  16.  36.   4.]]\n"
     ]
    }
   ],
   "source": [
    "# Take the latest array to the power of 2 using np.square()\n",
    "result_power_np_square = np.square(result)\n",
    "\n",
    "print(\"Result of raising the latest array to the power of 2 using np.square():\")\n",
    "print(result_power_np_square)\n"
   ]
  },
  {
   "cell_type": "code",
   "execution_count": 28,
   "metadata": {},
   "outputs": [
    {
     "name": "stdout",
     "output_type": "stream",
     "text": [
      "Mean of the latest array: 4.866666666666666\n"
     ]
    }
   ],
   "source": [
    "# Calculate the mean of the latest array using np.mean()\n",
    "result_mean = np.mean(result)\n",
    "\n",
    "print(\"Mean of the latest array:\", result_mean)\n"
   ]
  },
  {
   "cell_type": "code",
   "execution_count": 29,
   "metadata": {},
   "outputs": [
    {
     "data": {
      "text/plain": [
       "10.0"
      ]
     },
     "execution_count": 29,
     "metadata": {},
     "output_type": "execute_result"
    }
   ],
   "source": [
    "# Find the maximum of the latest array using np.max()\n",
    "result_max = np.max(result)\n",
    "result_max"
   ]
  },
  {
   "cell_type": "code",
   "execution_count": 30,
   "metadata": {},
   "outputs": [
    {
     "data": {
      "text/plain": [
       "1.0"
      ]
     },
     "execution_count": 30,
     "metadata": {},
     "output_type": "execute_result"
    }
   ],
   "source": [
    "# Find the minimum of the latest array using np.min()\n",
    "result_min = np.min(result)\n",
    "result_min"
   ]
  },
  {
   "cell_type": "code",
   "execution_count": 31,
   "metadata": {},
   "outputs": [
    {
     "data": {
      "text/plain": [
       "2.578543947441829"
      ]
     },
     "execution_count": 31,
     "metadata": {},
     "output_type": "execute_result"
    }
   ],
   "source": [
    "# Find the standard deviation of the latest array\n",
    "result_std = np.std(result)\n",
    "result_std"
   ]
  },
  {
   "cell_type": "code",
   "execution_count": 32,
   "metadata": {},
   "outputs": [
    {
     "data": {
      "text/plain": [
       "6.648888888888889"
      ]
     },
     "execution_count": 32,
     "metadata": {},
     "output_type": "execute_result"
    }
   ],
   "source": [
    "# Find the variance of the latest array\n",
    "result_var = np.var(result)\n",
    "result_var"
   ]
  },
  {
   "cell_type": "code",
   "execution_count": 33,
   "metadata": {},
   "outputs": [
    {
     "data": {
      "text/plain": [
       "array([[[ 7.],\n",
       "        [ 8.],\n",
       "        [ 3.],\n",
       "        [ 1.],\n",
       "        [ 4.]],\n",
       "\n",
       "       [[ 2.],\n",
       "        [ 8.],\n",
       "        [ 4.],\n",
       "        [ 2.],\n",
       "        [ 6.]],\n",
       "\n",
       "       [[ 6.],\n",
       "        [10.],\n",
       "        [ 4.],\n",
       "        [ 6.],\n",
       "        [ 2.]]])"
      ]
     },
     "execution_count": 33,
     "metadata": {},
     "output_type": "execute_result"
    }
   ],
   "source": [
    "# Reshape the latest array to (3, 5, 1)\n",
    "result_reshaped = np.reshape(result, (3, 5, 1))\n",
    "result_reshaped"
   ]
  },
  {
   "cell_type": "code",
   "execution_count": 35,
   "metadata": {},
   "outputs": [
    {
     "data": {
      "text/plain": [
       "array([[ 7.,  2.,  6.],\n",
       "       [ 8.,  8., 10.],\n",
       "       [ 3.,  4.,  4.],\n",
       "       [ 1.,  2.,  6.],\n",
       "       [ 4.,  6.,  2.]])"
      ]
     },
     "execution_count": 35,
     "metadata": {},
     "output_type": "execute_result"
    }
   ],
   "source": [
    "# Transpose the latest array\n",
    "result_transposed = np.transpose(result)\n",
    "result_transposed"
   ]
  },
  {
   "cell_type": "markdown",
   "metadata": {},
   "source": [
    "What does the transpose do?"
   ]
  },
  {
   "cell_type": "code",
   "execution_count": 36,
   "metadata": {},
   "outputs": [
    {
     "name": "stdout",
     "output_type": "stream",
     "text": [
      "Array of random integers of size (3, 3):\n",
      "[[9 1 9]\n",
      " [3 7 6]\n",
      " [8 7 4]]\n",
      "\n",
      "Array of random integers of size (3, 2):\n",
      "[[1 4]\n",
      " [7 9]\n",
      " [8 8]]\n"
     ]
    }
   ],
   "source": [
    "# Create an array of random integers between 0 and 10 of size (3, 3)\n",
    "random_array_3x3 = np.random.randint(0, 11, size=(3, 3))\n",
    "\n",
    "# Create another array of random integers between 0 and 10 of size (3, 2)\n",
    "random_array_3x2 = np.random.randint(0, 11, size=(3, 2))\n",
    "\n",
    "print(\"Array of random integers of size (3, 3):\")\n",
    "print(random_array_3x3)\n",
    "print(\"\\nArray of random integers of size (3, 2):\")\n",
    "print(random_array_3x2)\n"
   ]
  },
  {
   "cell_type": "code",
   "execution_count": 38,
   "metadata": {},
   "outputs": [
    {
     "name": "stdout",
     "output_type": "stream",
     "text": [
      "First array of random integers:\n",
      "[[ 0  8  6]\n",
      " [ 8  7  0]\n",
      " [ 7  7 10]\n",
      " [ 2  0  7]]\n",
      "\n",
      "Second array of random integers:\n",
      "[[ 2  2  0]\n",
      " [10  4  9]\n",
      " [ 6  9  8]\n",
      " [ 6  8  7]]\n"
     ]
    }
   ],
   "source": [
    "import numpy as np\n",
    "\n",
    "# Create the first array of random integers between 0 and 10 of size (4, 3)\n",
    "random_array_1 = np.random.randint(0, 11, size=(4, 3))\n",
    "\n",
    "# Create the second array of random integers between 0 and 10 of size (4, 3)\n",
    "random_array_2 = np.random.randint(0, 11, size=(4, 3))\n",
    "\n",
    "print(\"First array of random integers:\")\n",
    "print(random_array_1)\n",
    "print(\"\\nSecond array of random integers:\")\n",
    "print(random_array_2)\n"
   ]
  },
  {
   "cell_type": "code",
   "execution_count": 39,
   "metadata": {},
   "outputs": [
    {
     "name": "stdout",
     "output_type": "stream",
     "text": [
      "Dot product result:\n",
      "[[ 16  86 120 106]\n",
      " [ 30 108 111 104]\n",
      " [ 28 188 185 168]\n",
      " [  4  83  68  61]]\n"
     ]
    }
   ],
   "source": [
    "# Perform the dot product on the two arrays\n",
    "dot_product_result = np.dot(random_array_1, random_array_2.T)\n",
    "\n",
    "print(\"Dot product result:\")\n",
    "print(dot_product_result)\n"
   ]
  },
  {
   "cell_type": "markdown",
   "metadata": {},
   "source": [
    "It doesn't work. How would you fix it?"
   ]
  },
  {
   "cell_type": "code",
   "execution_count": 40,
   "metadata": {},
   "outputs": [
    {
     "name": "stdout",
     "output_type": "stream",
     "text": [
      "Dot product result:\n",
      "[[ 16  86 120 106]\n",
      " [ 30 108 111 104]\n",
      " [ 28 188 185 168]\n",
      " [  4  83  68  61]]\n"
     ]
    }
   ],
   "source": [
    "import numpy as np\n",
    "\n",
    "# Assuming you have the two newest arrays stored as random_array_1 and random_array_2\n",
    "\n",
    "# Transpose one of the arrays (random_array_2)\n",
    "random_array_2_transposed = random_array_2.T\n",
    "\n",
    "# Perform the dot product on the two arrays\n",
    "dot_product_result = np.dot(random_array_1, random_array_2_transposed)\n",
    "\n",
    "print(\"Dot product result:\")\n",
    "print(dot_product_result)\n"
   ]
  },
  {
   "cell_type": "markdown",
   "metadata": {},
   "source": [
    "Notice how performing a transpose allows the dot product to happen.\n",
    "\n",
    "Why is this?\n",
    "\n",
    "Checking out the documentation on [`np.dot()`](https://docs.scipy.org/doc/numpy/reference/generated/numpy.dot.html) may help, as well as reading [Math is Fun's guide on the dot product](https://www.mathsisfun.com/algebra/vectors-dot-product.html).\n",
    "\n",
    "Let's now compare arrays."
   ]
  },
  {
   "cell_type": "code",
   "execution_count": 41,
   "metadata": {},
   "outputs": [
    {
     "name": "stdout",
     "output_type": "stream",
     "text": [
      "First array of random integers:\n",
      "[[ 1  0  6]\n",
      " [ 6  7  4]\n",
      " [ 2  7  5]\n",
      " [10  2  0]]\n",
      "\n",
      "Second array of random integers:\n",
      "[[ 2  4  2]\n",
      " [ 0  4  9]\n",
      " [ 6  6 10]\n",
      " [ 8  9  9]]\n"
     ]
    }
   ],
   "source": [
    "import numpy as np\n",
    "\n",
    "# Create the first array of random integers between 0 and 10 of size (4, 3)\n",
    "random_array_1 = np.random.randint(0, 11, size=(4, 3))\n",
    "\n",
    "# Create the second array of random integers between 0 and 10 of the same size\n",
    "random_array_2 = np.random.randint(0, 11, size=(4, 3))\n",
    "\n",
    "print(\"First array of random integers:\")\n",
    "print(random_array_1)\n",
    "print(\"\\nSecond array of random integers:\")\n",
    "print(random_array_2)\n"
   ]
  },
  {
   "cell_type": "code",
   "execution_count": 42,
   "metadata": {},
   "outputs": [
    {
     "name": "stdout",
     "output_type": "stream",
     "text": [
      "Comparison result (random_array_1 > random_array_2):\n",
      "[[False False  True]\n",
      " [ True  True False]\n",
      " [False  True False]\n",
      " [ True False False]]\n"
     ]
    }
   ],
   "source": [
    "import numpy as np\n",
    "\n",
    "# Assuming you have the two arrays stored as random_array_1 and random_array_2\n",
    "\n",
    "# Compare the two arrays using the > operator\n",
    "comparison_result = random_array_1 > random_array_2\n",
    "\n",
    "print(\"Comparison result (random_array_1 > random_array_2):\")\n",
    "print(comparison_result)\n"
   ]
  },
  {
   "cell_type": "markdown",
   "metadata": {},
   "source": [
    "What happens when you compare the arrays with `>`?"
   ]
  },
  {
   "cell_type": "code",
   "execution_count": 43,
   "metadata": {},
   "outputs": [
    {
     "name": "stdout",
     "output_type": "stream",
     "text": [
      "Comparison result (random_array_1 >= random_array_2):\n",
      "[[False False  True]\n",
      " [ True  True False]\n",
      " [False  True False]\n",
      " [ True False False]]\n"
     ]
    }
   ],
   "source": [
    "import numpy as np\n",
    "\n",
    "# Assuming you have the two arrays stored as random_array_1 and random_array_2\n",
    "\n",
    "# Compare the two arrays using the >= operator\n",
    "comparison_result = random_array_1 >= random_array_2\n",
    "\n",
    "print(\"Comparison result (random_array_1 >= random_array_2):\")\n",
    "print(comparison_result)\n"
   ]
  },
  {
   "cell_type": "code",
   "execution_count": 44,
   "metadata": {},
   "outputs": [
    {
     "name": "stdout",
     "output_type": "stream",
     "text": [
      "Elements of the first array greater than 7:\n",
      "[10]\n"
     ]
    }
   ],
   "source": [
    "greater_than_7 = random_array_1 > 7\n",
    "print(\"Elements of the first array greater than 7:\")\n",
    "print(random_array_1[greater_than_7])\n"
   ]
  },
  {
   "cell_type": "code",
   "execution_count": 45,
   "metadata": {},
   "outputs": [
    {
     "name": "stdout",
     "output_type": "stream",
     "text": [
      "Equal elements in the arrays:\n",
      "[[False False False]\n",
      " [False False False]\n",
      " [False False False]\n",
      " [False False False]]\n"
     ]
    }
   ],
   "source": [
    "equal_elements = random_array_1 == random_array_2\n",
    "print(\"Equal elements in the arrays:\")\n",
    "print(equal_elements)\n"
   ]
  },
  {
   "cell_type": "code",
   "execution_count": 46,
   "metadata": {},
   "outputs": [
    {
     "name": "stdout",
     "output_type": "stream",
     "text": [
      "Sorted array in ascending order:\n",
      "[[ 0  1  6]\n",
      " [ 4  6  7]\n",
      " [ 2  5  7]\n",
      " [ 0  2 10]]\n"
     ]
    }
   ],
   "source": [
    "sorted_array = np.sort(random_array_1)\n",
    "print(\"Sorted array in ascending order:\")\n",
    "print(sorted_array)\n"
   ]
  },
  {
   "cell_type": "code",
   "execution_count": 47,
   "metadata": {},
   "outputs": [
    {
     "name": "stdout",
     "output_type": "stream",
     "text": [
      "Sorted indexes of the array:\n",
      "[[1 0 2]\n",
      " [2 0 1]\n",
      " [0 2 1]\n",
      " [2 1 0]]\n"
     ]
    }
   ],
   "source": [
    "sorted_indexes = np.argsort(random_array_1)\n",
    "print(\"Sorted indexes of the array:\")\n",
    "print(sorted_indexes)\n"
   ]
  },
  {
   "cell_type": "code",
   "execution_count": 48,
   "metadata": {},
   "outputs": [
    {
     "name": "stdout",
     "output_type": "stream",
     "text": [
      "Index with the maximum value: 9\n"
     ]
    }
   ],
   "source": [
    "max_index = np.argmax(random_array_1)\n",
    "print(\"Index with the maximum value:\", max_index)\n"
   ]
  },
  {
   "cell_type": "code",
   "execution_count": 49,
   "metadata": {},
   "outputs": [
    {
     "name": "stdout",
     "output_type": "stream",
     "text": [
      "Index with the minimum value: 1\n"
     ]
    }
   ],
   "source": [
    "# Find the index with the minimum value in one of the arrays you've created\n",
    "min_index = np.argmin(random_array_1)\n",
    "print(\"Index with the minimum value:\", min_index)\n"
   ]
  },
  {
   "cell_type": "code",
   "execution_count": 50,
   "metadata": {},
   "outputs": [
    {
     "name": "stdout",
     "output_type": "stream",
     "text": [
      "Indexes with the maximum values along axis 1:\n",
      "[2 1 1 0]\n"
     ]
    }
   ],
   "source": [
    "# Find the indexes with the maximum values down the 1st axis (axis=1)\n",
    "# of one of the arrays you created\n",
    "max_indexes_axis1 = np.argmax(random_array_1, axis=1)\n",
    "print(\"Indexes with the maximum values along axis 1:\")\n",
    "print(max_indexes_axis1)\n"
   ]
  },
  {
   "cell_type": "code",
   "execution_count": 51,
   "metadata": {},
   "outputs": [
    {
     "name": "stdout",
     "output_type": "stream",
     "text": [
      "Indexes with the minimum values along axis 0:\n",
      "[0 0 3]\n"
     ]
    }
   ],
   "source": [
    "# Find the indexes with the minimum values across the 0th axis (axis=0)\n",
    "# of one of the arrays you created\n",
    "min_indexes_axis0 = np.argmin(random_array_1, axis=0)\n",
    "print(\"Indexes with the minimum values along axis 0:\")\n",
    "print(min_indexes_axis0)\n"
   ]
  },
  {
   "cell_type": "code",
   "execution_count": 52,
   "metadata": {},
   "outputs": [
    {
     "name": "stdout",
     "output_type": "stream",
     "text": [
      "Array of normally distributed random numbers:\n",
      "[[-1.38071702 -0.28080629 -0.05981726  0.96117377  1.79428084]\n",
      " [ 0.58068954  0.29765045 -1.02811577 -1.41859646  0.19033698]\n",
      " [ 0.13575383  0.60808966  0.70498131  0.36092338 -1.46696789]\n",
      " [ 0.89262947 -0.10525713 -0.95534644 -0.41476463 -1.39874088]\n",
      " [-0.34408054  0.75078589 -0.32762518 -0.86159805 -0.2581848 ]]\n"
     ]
    }
   ],
   "source": [
    "# Create an array of normally distributed random numbers\n",
    "normal_array = np.random.randn(5, 5)\n",
    "print(\"Array of normally distributed random numbers:\")\n",
    "print(normal_array)\n"
   ]
  },
  {
   "cell_type": "code",
   "execution_count": 53,
   "metadata": {},
   "outputs": [
    {
     "name": "stdout",
     "output_type": "stream",
     "text": [
      "Array with 10 evenly spaced numbers between 1 and 100:\n",
      "[  1.  12.  23.  34.  45.  56.  67.  78.  89. 100.]\n"
     ]
    }
   ],
   "source": [
    "# Create an array with 10 evenly spaced numbers between 1 and 100\n",
    "evenly_spaced_array = np.linspace(1, 100, 10)\n",
    "print(\"Array with 10 evenly spaced numbers between 1 and 100:\")\n",
    "print(evenly_spaced_array)\n"
   ]
  },
  {
   "cell_type": "markdown",
   "metadata": {},
   "source": [
    "## Extensions\n",
    "\n",
    "For more exercises, check out the [NumPy quickstart tutorial](https://numpy.org/doc/stable/user/quickstart.html). A good practice would be to read through it and for the parts you find interesting, add them into the end of this notebook.\n",
    "\n",
    "Pay particular attention to the section on broadcasting. And most importantly, get hands-on with the code as much as possible. If in dobut, run the code, see what it does.\n",
    "\n",
    "The next place you could go is the [Stack Overflow page for the top questions and answers for NumPy](https://stackoverflow.com/questions/tagged/numpy?sort=MostVotes&edited=true). Often, you'll find some of the most common and useful NumPy functions here. Don't forget to play around with the filters! You'll likely find something helpful here.\n",
    "\n",
    "Finally, as always, remember, the best way to learn something new is to try it. And try it relentlessly. If you get interested in some kind of NumPy function, asking yourself, \"I wonder if NumPy could do that?\", go and find out."
   ]
  }
 ],
 "metadata": {
  "kernelspec": {
   "display_name": "Python 3 (ipykernel)",
   "language": "python",
   "name": "python3"
  },
  "language_info": {
   "codemirror_mode": {
    "name": "ipython",
    "version": 3
   },
   "file_extension": ".py",
   "mimetype": "text/x-python",
   "name": "python",
   "nbconvert_exporter": "python",
   "pygments_lexer": "ipython3",
   "version": "3.10.9"
  }
 },
 "nbformat": 4,
 "nbformat_minor": 4
}
